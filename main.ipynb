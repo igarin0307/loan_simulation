{
 "cells": [
  {
   "cell_type": "code",
   "execution_count": 3,
   "metadata": {},
   "outputs": [],
   "source": [
    "import streamlit as st\n",
    "import numpy as np\n",
    "import pandas as pd\n",
    "import calculator"
   ]
  },
  {
   "cell_type": "code",
   "execution_count": 4,
   "metadata": {},
   "outputs": [
    {
     "name": "stderr",
     "output_type": "stream",
     "text": [
      "2024-07-15 14:51:36.612 \n",
      "  \u001b[33m\u001b[1mWarning:\u001b[0m to view this Streamlit app on a browser, run it with the following\n",
      "  command:\n",
      "\n",
      "    streamlit run /opt/miniconda3/lib/python3.12/site-packages/ipykernel_launcher.py [ARGUMENTS]\n",
      "2024-07-15 14:51:36.612 No runtime found, using MemoryCacheStorageManager\n",
      "2024-07-15 14:51:36.613 Session state does not function when running a script without `streamlit run`\n",
      "2024-07-15 14:51:37.085 No runtime found, using MemoryCacheStorageManager\n"
     ]
    }
   ],
   "source": [
    "\n",
    "\n",
    "st.title('ローン返済シミュレータ')\n",
    "\n",
    "@st.cache_data\n",
    "def convert_df(df):\n",
    "   return df.to_csv(index=False).encode('utf-8')\n",
    "\n",
    "# 必要情報(サイドバー)\n",
    "debt = st.sidebar.slider('借入金(万円)', min_value=50, max_value=10000, step=50)\n",
    "bonus = st.sidebar.slider('ボーナス分(万円)', min_value=0, max_value=10000) # TODO 借入金を超えないようにするにはどうするか検討\n",
    "bonus_number = st.sidebar.slider('ボーナスの支払回数(/年)', min_value=0, max_value=4)# TODO ゼロ除算を防ぐにはどうすべきか検討\n",
    "year = st.sidebar.slider('返済期間(年)', min_value=1, max_value=60, step=1)\n",
    "rate = st.sidebar.slider('年利(%)', min_value=0.01, max_value=10.000,step = 0.01)\n",
    "\n",
    "# 記入チェック\n",
    "if bonus > 0 and bonus_number == 0:\n",
    "    st.warning('ボーナス支払い回数が0回ですがボーナス支払いが存在します。')\n",
    "if debt < bonus:\n",
    "    st.warning('ボーナス支払いが借入金を超えています。')\n",
    "\n",
    "# 出力\n",
    "tab1, tab2 = st.tabs([\"元利均等\", \"元本均等\"])\n",
    "\n",
    "with tab1:\n",
    "    monthly_payment, bonus_payment = calculator.montly_payment_equal_interest(rate,debt, year, bonus, bonus_number)\n",
    "    st.write('月の返済は', '%.2f' % monthly_payment, '万円')\n",
    "    st.write('ボーナスごとに', '%.2f' % bonus_payment, '万円')\n",
    "    st.write('返済総額は', '%.1f' % (monthly_payment*year*12 + bonus_payment * year * bonus_number) ,'万円')\n",
    "\n",
    "    chart_data_month = calculator.make_table_equal_interest(debt, rate, year, bonus, bonus_number)\n",
    "\n",
    "    # TODO 月ごとの支払い表を別タブで作成するようにする。\n",
    "    tab1_1, tab1_2 = st.tabs([\"年ごとのグラフ\", \"月ごとの支払い表\"])\n",
    "    \n",
    "    with tab1_1:\n",
    "        st.bar_chart(chart_data_month[['payment_year',\n",
    "                                        'monthly_principal',\n",
    "                                        'monthly_interest',\n",
    "                                        'bonus_principal',\n",
    "                                        'bonus_interest'\n",
    "                                         ]]\n",
    "                     .groupby(['payment_year']).sum())\n",
    "\n",
    "    with tab1_2:\n",
    "        csv = convert_df(chart_data_month)\n",
    "        st.download_button(\n",
    "        \"Press to Download\",\n",
    "        csv,\n",
    "        \"file.csv\",\n",
    "        \"text/csv\",\n",
    "        key='download-csv'\n",
    "        )\n",
    "        st.table(chart_data_month.style.format(\"{:.1f}\"))\n",
    "\n",
    "with tab2:\n",
    "\n",
    "    chart_data_month_p = calculator.make_table_equal_principal(debt, rate, year, bonus, bonus_number)\n",
    "    \n",
    "    tab2_1, tab2_2 = st.tabs([\"年ごとのグラフ\", \"月ごとの支払い表\"])\n",
    "    with tab2_1:\n",
    "        st.bar_chart(chart_data_month_p[['payment_year',\n",
    "                                        'monthly_principal',\n",
    "                                        'monthly_interest',\n",
    "                                        'bonus_principal',\n",
    "                                        'bonus_interest'\n",
    "                                            ]]\n",
    "                                        .groupby(['payment_year']).sum())\n",
    "    with tab2_2:   \n",
    "        csv = convert_df(chart_data_month_p)\n",
    "        st.download_button(\n",
    "        \"Press to Download\",\n",
    "        csv,\n",
    "        \"file.csv\",\n",
    "        \"text/csv\",\n",
    "        key='download-csv-p'\n",
    "        )\n",
    "        st.table(chart_data_month_p.style.format(\"{:.1f}\"))\n"
   ]
  },
  {
   "cell_type": "code",
   "execution_count": null,
   "metadata": {},
   "outputs": [],
   "source": []
  },
  {
   "cell_type": "code",
   "execution_count": null,
   "metadata": {},
   "outputs": [],
   "source": []
  },
  {
   "cell_type": "code",
   "execution_count": null,
   "metadata": {},
   "outputs": [],
   "source": []
  },
  {
   "cell_type": "code",
   "execution_count": null,
   "metadata": {},
   "outputs": [],
   "source": []
  }
 ],
 "metadata": {
  "kernelspec": {
   "display_name": "base",
   "language": "python",
   "name": "python3"
  },
  "language_info": {
   "codemirror_mode": {
    "name": "ipython",
    "version": 3
   },
   "file_extension": ".py",
   "mimetype": "text/x-python",
   "name": "python",
   "nbconvert_exporter": "python",
   "pygments_lexer": "ipython3",
   "version": "3.12.2"
  }
 },
 "nbformat": 4,
 "nbformat_minor": 2
}
